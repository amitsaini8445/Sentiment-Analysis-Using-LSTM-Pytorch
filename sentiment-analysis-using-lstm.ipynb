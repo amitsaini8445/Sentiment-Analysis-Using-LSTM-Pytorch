{
 "cells": [
  {
   "cell_type": "markdown",
   "id": "fb7648f0",
   "metadata": {
    "papermill": {
     "duration": 0.006974,
     "end_time": "2023-04-16T12:12:08.663970",
     "exception": false,
     "start_time": "2023-04-16T12:12:08.656996",
     "status": "completed"
    },
    "tags": []
   },
   "source": [
    "# Import the required libraries"
   ]
  },
  {
   "cell_type": "code",
   "execution_count": 1,
   "id": "44e945e3",
   "metadata": {
    "_cell_guid": "b1076dfc-b9ad-4769-8c92-a6c4dae69d19",
    "_uuid": "8f2839f25d086af736a60e9eeb907d3b93b6e0e5",
    "execution": {
     "iopub.execute_input": "2023-04-16T12:12:08.678555Z",
     "iopub.status.busy": "2023-04-16T12:12:08.677717Z",
     "iopub.status.idle": "2023-04-16T12:12:12.062842Z",
     "shell.execute_reply": "2023-04-16T12:12:12.061817Z"
    },
    "papermill": {
     "duration": 3.39554,
     "end_time": "2023-04-16T12:12:12.065659",
     "exception": false,
     "start_time": "2023-04-16T12:12:08.670119",
     "status": "completed"
    },
    "tags": []
   },
   "outputs": [],
   "source": [
    "import pandas as pd\n",
    "import numpy as np\n",
    "import matplotlib.pyplot as plt\n",
    "import seaborn as sns\n",
    "import os\n",
    "import warnings\n",
    "from sklearn.model_selection import train_test_split\n",
    "import torch\n",
    "import torch.nn as nn\n",
    "import torch.nn.functional as F\n",
    "from torch.utils.data import TensorDataset,DataLoader\n",
    "from nltk.corpus import stopwords\n",
    "from collections import Counter\n",
    "import string\n",
    "import re\n",
    "from tqdm  import tqdm"
   ]
  },
  {
   "cell_type": "markdown",
   "id": "182b9b0b",
   "metadata": {
    "papermill": {
     "duration": 0.005748,
     "end_time": "2023-04-16T12:12:12.077771",
     "exception": false,
     "start_time": "2023-04-16T12:12:12.072023",
     "status": "completed"
    },
    "tags": []
   },
   "source": [
    "# load the dataset"
   ]
  },
  {
   "cell_type": "code",
   "execution_count": 2,
   "id": "7219e891",
   "metadata": {
    "execution": {
     "iopub.execute_input": "2023-04-16T12:12:12.091169Z",
     "iopub.status.busy": "2023-04-16T12:12:12.090677Z",
     "iopub.status.idle": "2023-04-16T12:12:13.324261Z",
     "shell.execute_reply": "2023-04-16T12:12:13.323143Z"
    },
    "papermill": {
     "duration": 1.243644,
     "end_time": "2023-04-16T12:12:13.327272",
     "exception": false,
     "start_time": "2023-04-16T12:12:12.083628",
     "status": "completed"
    },
    "tags": []
   },
   "outputs": [],
   "source": [
    "df = pd.read_csv(\"/kaggle/input/imdb-dataset-of-50k-movie-reviews/IMDB Dataset.csv\")"
   ]
  },
  {
   "cell_type": "code",
   "execution_count": 3,
   "id": "38221c6c",
   "metadata": {
    "execution": {
     "iopub.execute_input": "2023-04-16T12:12:13.340457Z",
     "iopub.status.busy": "2023-04-16T12:12:13.340157Z",
     "iopub.status.idle": "2023-04-16T12:12:13.407247Z",
     "shell.execute_reply": "2023-04-16T12:12:13.406119Z"
    },
    "papermill": {
     "duration": 0.075995,
     "end_time": "2023-04-16T12:12:13.409338",
     "exception": false,
     "start_time": "2023-04-16T12:12:13.333343",
     "status": "completed"
    },
    "tags": []
   },
   "outputs": [
    {
     "name": "stdout",
     "output_type": "stream",
     "text": [
      "Using device: cuda\n"
     ]
    }
   ],
   "source": [
    "# check cuda is available or not\n",
    "device = torch.device('cuda' if torch.cuda.is_available() else 'cpu')\n",
    "print('Using device:', device)"
   ]
  },
  {
   "cell_type": "code",
   "execution_count": 4,
   "id": "e0972cf1",
   "metadata": {
    "execution": {
     "iopub.execute_input": "2023-04-16T12:12:13.422713Z",
     "iopub.status.busy": "2023-04-16T12:12:13.422421Z",
     "iopub.status.idle": "2023-04-16T12:12:13.438697Z",
     "shell.execute_reply": "2023-04-16T12:12:13.437788Z"
    },
    "papermill": {
     "duration": 0.025394,
     "end_time": "2023-04-16T12:12:13.440944",
     "exception": false,
     "start_time": "2023-04-16T12:12:13.415550",
     "status": "completed"
    },
    "tags": []
   },
   "outputs": [
    {
     "data": {
      "text/html": [
       "<div>\n",
       "<style scoped>\n",
       "    .dataframe tbody tr th:only-of-type {\n",
       "        vertical-align: middle;\n",
       "    }\n",
       "\n",
       "    .dataframe tbody tr th {\n",
       "        vertical-align: top;\n",
       "    }\n",
       "\n",
       "    .dataframe thead th {\n",
       "        text-align: right;\n",
       "    }\n",
       "</style>\n",
       "<table border=\"1\" class=\"dataframe\">\n",
       "  <thead>\n",
       "    <tr style=\"text-align: right;\">\n",
       "      <th></th>\n",
       "      <th>review</th>\n",
       "      <th>sentiment</th>\n",
       "    </tr>\n",
       "  </thead>\n",
       "  <tbody>\n",
       "    <tr>\n",
       "      <th>0</th>\n",
       "      <td>One of the other reviewers has mentioned that ...</td>\n",
       "      <td>positive</td>\n",
       "    </tr>\n",
       "    <tr>\n",
       "      <th>1</th>\n",
       "      <td>A wonderful little production. &lt;br /&gt;&lt;br /&gt;The...</td>\n",
       "      <td>positive</td>\n",
       "    </tr>\n",
       "    <tr>\n",
       "      <th>2</th>\n",
       "      <td>I thought this was a wonderful way to spend ti...</td>\n",
       "      <td>positive</td>\n",
       "    </tr>\n",
       "    <tr>\n",
       "      <th>3</th>\n",
       "      <td>Basically there's a family where a little boy ...</td>\n",
       "      <td>negative</td>\n",
       "    </tr>\n",
       "    <tr>\n",
       "      <th>4</th>\n",
       "      <td>Petter Mattei's \"Love in the Time of Money\" is...</td>\n",
       "      <td>positive</td>\n",
       "    </tr>\n",
       "  </tbody>\n",
       "</table>\n",
       "</div>"
      ],
      "text/plain": [
       "                                              review sentiment\n",
       "0  One of the other reviewers has mentioned that ...  positive\n",
       "1  A wonderful little production. <br /><br />The...  positive\n",
       "2  I thought this was a wonderful way to spend ti...  positive\n",
       "3  Basically there's a family where a little boy ...  negative\n",
       "4  Petter Mattei's \"Love in the Time of Money\" is...  positive"
      ]
     },
     "execution_count": 4,
     "metadata": {},
     "output_type": "execute_result"
    }
   ],
   "source": [
    "df.head()"
   ]
  },
  {
   "cell_type": "code",
   "execution_count": 5,
   "id": "da55726e",
   "metadata": {
    "execution": {
     "iopub.execute_input": "2023-04-16T12:12:13.454801Z",
     "iopub.status.busy": "2023-04-16T12:12:13.454067Z",
     "iopub.status.idle": "2023-04-16T12:12:13.683343Z",
     "shell.execute_reply": "2023-04-16T12:12:13.682390Z"
    },
    "papermill": {
     "duration": 0.238567,
     "end_time": "2023-04-16T12:12:13.685822",
     "exception": false,
     "start_time": "2023-04-16T12:12:13.447255",
     "status": "completed"
    },
    "tags": []
   },
   "outputs": [
    {
     "data": {
      "text/plain": [
       "<AxesSubplot:xlabel='sentiment', ylabel='count'>"
      ]
     },
     "execution_count": 5,
     "metadata": {},
     "output_type": "execute_result"
    },
    {
     "data": {
      "image/png": "[encoded data removed]",
      "text/plain": [
       "<Figure size 640x480 with 1 Axes>"
      ]
     },
     "metadata": {},
     "output_type": "display_data"
    }
   ],
   "source": [
    "sns.countplot(x=df['sentiment'])"
   ]
  },
  {
   "cell_type": "markdown",
   "id": "23786481",
   "metadata": {
    "papermill": {
     "duration": 0.007627,
     "end_time": "2023-04-16T12:12:13.700432",
     "exception": false,
     "start_time": "2023-04-16T12:12:13.692805",
     "status": "completed"
    },
    "tags": []
   },
   "source": [
    "### split the data\n",
    "We will split the data into train and test"
   ]
  },
  {
   "cell_type": "code",
   "execution_count": 6,
   "id": "68b54059",
   "metadata": {
    "execution": {
     "iopub.execute_input": "2023-04-16T12:12:13.714416Z",
     "iopub.status.busy": "2023-04-16T12:12:13.714094Z",
     "iopub.status.idle": "2023-04-16T12:12:13.728121Z",
     "shell.execute_reply": "2023-04-16T12:12:13.727148Z"
    },
    "papermill": {
     "duration": 0.023455,
     "end_time": "2023-04-16T12:12:13.730309",
     "exception": false,
     "start_time": "2023-04-16T12:12:13.706854",
     "status": "completed"
    },
    "tags": []
   },
   "outputs": [
    {
     "name": "stdout",
     "output_type": "stream",
     "text": [
      "Shape of X train : (40000,)\n",
      " Shape of x test : (10000,)\n"
     ]
    }
   ],
   "source": [
    "X,y = df['review'].values,df['sentiment'].values\n",
    "X_train,X_test,y_train,y_test = train_test_split(X,y, test_size=0.20,random_state=42)\n",
    "print(f'Shape of X train : {X_train.shape}\\n Shape of x test : {X_test.shape}')\n"
   ]
  },
  {
   "cell_type": "markdown",
   "id": "4980d533",
   "metadata": {
    "papermill": {
     "duration": 0.006233,
     "end_time": "2023-04-16T12:12:13.743115",
     "exception": false,
     "start_time": "2023-04-16T12:12:13.736882",
     "status": "completed"
    },
    "tags": []
   },
   "source": [
    "## Tokenization"
   ]
  },
  {
   "cell_type": "code",
   "execution_count": 7,
   "id": "8cff61bc",
   "metadata": {
    "execution": {
     "iopub.execute_input": "2023-04-16T12:12:13.757241Z",
     "iopub.status.busy": "2023-04-16T12:12:13.756938Z",
     "iopub.status.idle": "2023-04-16T12:12:13.768606Z",
     "shell.execute_reply": "2023-04-16T12:12:13.767689Z"
    },
    "papermill": {
     "duration": 0.021084,
     "end_time": "2023-04-16T12:12:13.770786",
     "exception": false,
     "start_time": "2023-04-16T12:12:13.749702",
     "status": "completed"
    },
    "tags": []
   },
   "outputs": [],
   "source": [
    "def preprocess_string(str1):\n",
    "    # remove all non-word characters excluding number and letters\n",
    "    str1= re.sub(r\"[^\\w\\s]\",'',str1)\n",
    "    # remove all whitespace with no space\n",
    "    str1= re.sub(r\"\\s\",'',str1)\n",
    "    # replace digits with no space\n",
    "    str1= re.sub(r\"\\d\",'',str1)\n",
    "    return str1\n",
    "\n",
    "def tokenize(x_train,x_test,y_train,y_test):\n",
    "    word_list=[]\n",
    "    stop_word =set(stopwords.words(\"english\"))\n",
    "    for sent in x_train:\n",
    "        for word in sent.lower().split():\n",
    "            word= preprocess_string(word)\n",
    "            if word not in stop_word and word!='':\n",
    "                word_list.append(word)\n",
    "    \n",
    "    corpus = Counter(word_list)\n",
    "    print(corpus.get)\n",
    "    # sorting on the basis of most common words\n",
    "    corpus_ =sorted(corpus,key= corpus.get,reverse=True)[:1000]\n",
    "    # creating a dict\n",
    "    onehot_dict =  {w:i+1 for i,w in enumerate(corpus_)}\n",
    "    \n",
    "    # tokenize\n",
    "    final_list_train,final_list_test =[],[]\n",
    "    for sent in x_train:\n",
    "            final_list_train.append([onehot_dict[preprocess_string(word)] for word in sent.lower().split() \n",
    "                                     if preprocess_string(word) in onehot_dict.keys()])\n",
    "        \n",
    "          \n",
    "    for sent in x_test:\n",
    "            final_list_test.append([onehot_dict[preprocess_string(word)] for word in sent.lower().split() \n",
    "                                    if preprocess_string(word) in onehot_dict.keys()])    \n",
    "    \n",
    "    encoded_train = [1 if label =='positive' else 0 for label in y_train]  \n",
    "    encoded_test = [1 if label =='positive' else 0 for label in y_test] \n",
    "    return np.array(final_list_train), np.array(final_list_test),np.array(encoded_train), np.array(encoded_test),onehot_dict"
   ]
  },
  {
   "cell_type": "code",
   "execution_count": 8,
   "id": "680d3fe3",
   "metadata": {
    "execution": {
     "iopub.execute_input": "2023-04-16T12:12:13.784753Z",
     "iopub.status.busy": "2023-04-16T12:12:13.784475Z",
     "iopub.status.idle": "2023-04-16T12:13:38.168818Z",
     "shell.execute_reply": "2023-04-16T12:13:38.166891Z"
    },
    "papermill": {
     "duration": 84.400417,
     "end_time": "2023-04-16T12:13:38.177679",
     "exception": false,
     "start_time": "2023-04-16T12:12:13.777262",
     "status": "completed"
    },
    "tags": []
   },
   "outputs": [
    {
     "name": "stdout",
     "output_type": "stream",
     "text": [
      "<built-in method get of Counter object at 0x72044fa02650>\n"
     ]
    },
    {
     "name": "stderr",
     "output_type": "stream",
     "text": [
      "/opt/conda/lib/python3.7/site-packages/ipykernel_launcher.py:39: VisibleDeprecationWarning: Creating an ndarray from ragged nested sequences (which is a list-or-tuple of lists-or-tuples-or ndarrays with different lengths or shapes) is deprecated. If you meant to do this, you must specify 'dtype=object' when creating the ndarray.\n"
     ]
    }
   ],
   "source": [
    "x_train, x_test, y_train, y_test, vocab = tokenize(X_train, X_test, y_train, y_test)"
   ]
  },
  {
   "cell_type": "code",
   "execution_count": 9,
   "id": "7e4fa272",
   "metadata": {
    "execution": {
     "iopub.execute_input": "2023-04-16T12:13:38.192343Z",
     "iopub.status.busy": "2023-04-16T12:13:38.192000Z",
     "iopub.status.idle": "2023-04-16T12:13:38.197309Z",
     "shell.execute_reply": "2023-04-16T12:13:38.196302Z"
    },
    "papermill": {
     "duration": 0.015559,
     "end_time": "2023-04-16T12:13:38.199886",
     "exception": false,
     "start_time": "2023-04-16T12:13:38.184327",
     "status": "completed"
    },
    "tags": []
   },
   "outputs": [
    {
     "name": "stdout",
     "output_type": "stream",
     "text": [
      "Length of Vocabalary : 1000\n"
     ]
    }
   ],
   "source": [
    "print(f\"Length of Vocabalary : {len(vocab)}\")"
   ]
  },
  {
   "cell_type": "markdown",
   "id": "6c08500b",
   "metadata": {
    "papermill": {
     "duration": 0.006317,
     "end_time": "2023-04-16T12:13:38.212764",
     "exception": false,
     "start_time": "2023-04-16T12:13:38.206447",
     "status": "completed"
    },
    "tags": []
   },
   "source": [
    "## Analyzing review length"
   ]
  },
  {
   "cell_type": "code",
   "execution_count": 10,
   "id": "c96a35fe",
   "metadata": {
    "execution": {
     "iopub.execute_input": "2023-04-16T12:13:38.226805Z",
     "iopub.status.busy": "2023-04-16T12:13:38.226535Z",
     "iopub.status.idle": "2023-04-16T12:13:38.473242Z",
     "shell.execute_reply": "2023-04-16T12:13:38.472206Z"
    },
    "papermill": {
     "duration": 0.256332,
     "end_time": "2023-04-16T12:13:38.475539",
     "exception": false,
     "start_time": "2023-04-16T12:13:38.219207",
     "status": "completed"
    },
    "tags": []
   },
   "outputs": [
    {
     "data": {
      "image/png": "[encoded data removed]",
      "text/plain": [
       "<Figure size 640x480 with 1 Axes>"
      ]
     },
     "metadata": {},
     "output_type": "display_data"
    },
    {
     "data": {
      "text/plain": [
       "count    40000.000000\n",
       "mean        69.170475\n",
       "std         48.158105\n",
       "min          0.000000\n",
       "25%         39.000000\n",
       "50%         54.000000\n",
       "75%         84.000000\n",
       "max        653.000000\n",
       "dtype: float64"
      ]
     },
     "execution_count": 10,
     "metadata": {},
     "output_type": "execute_result"
    }
   ],
   "source": [
    "review_length = [len(i) for i in x_train]\n",
    "pd.Series(review_length).hist()\n",
    "plt.show()\n",
    "pd.Series(review_length).describe()"
   ]
  },
  {
   "cell_type": "markdown",
   "id": "8536a6b8",
   "metadata": {
    "papermill": {
     "duration": 0.006669,
     "end_time": "2023-04-16T12:13:38.489856",
     "exception": false,
     "start_time": "2023-04-16T12:13:38.483187",
     "status": "completed"
    },
    "tags": []
   },
   "source": [
    "Observations :\n",
    "\n",
    "a) Mean review length = around 69.\n",
    "\n",
    "b) minimum length of reviews is 2.\n",
    "\n",
    "c) There are quite a few reviews that are extremely long, we can manually investigate them to check whether we need to include or exclude them from our analysis"
   ]
  },
  {
   "cell_type": "markdown",
   "id": "84ff5c83",
   "metadata": {
    "papermill": {
     "duration": 0.006552,
     "end_time": "2023-04-16T12:13:38.503327",
     "exception": false,
     "start_time": "2023-04-16T12:13:38.496775",
     "status": "completed"
    },
    "tags": []
   },
   "source": [
    "### Padding\n",
    "Now we will pad each of the sequence to max length"
   ]
  },
  {
   "cell_type": "code",
   "execution_count": 11,
   "id": "14bbb306",
   "metadata": {
    "execution": {
     "iopub.execute_input": "2023-04-16T12:13:38.518681Z",
     "iopub.status.busy": "2023-04-16T12:13:38.518385Z",
     "iopub.status.idle": "2023-04-16T12:13:38.524182Z",
     "shell.execute_reply": "2023-04-16T12:13:38.523096Z"
    },
    "papermill": {
     "duration": 0.016069,
     "end_time": "2023-04-16T12:13:38.526394",
     "exception": false,
     "start_time": "2023-04-16T12:13:38.510325",
     "status": "completed"
    },
    "tags": []
   },
   "outputs": [],
   "source": [
    "def padding_(sentences, seq_len):\n",
    "    features = np.zeros((len(sentences), seq_len),dtype=int)\n",
    "    for ii, review in enumerate(sentences):\n",
    "        if len(review)!=0:\n",
    "            features[ii, -len(review):] = np.array(review)[:seq_len]\n",
    "        \n",
    "    return features"
   ]
  },
  {
   "cell_type": "code",
   "execution_count": 12,
   "id": "abe5b35f",
   "metadata": {
    "execution": {
     "iopub.execute_input": "2023-04-16T12:13:38.553466Z",
     "iopub.status.busy": "2023-04-16T12:13:38.552593Z",
     "iopub.status.idle": "2023-04-16T12:13:39.084191Z",
     "shell.execute_reply": "2023-04-16T12:13:39.083128Z"
    },
    "papermill": {
     "duration": 0.553424,
     "end_time": "2023-04-16T12:13:39.086985",
     "exception": false,
     "start_time": "2023-04-16T12:13:38.533561",
     "status": "completed"
    },
    "tags": []
   },
   "outputs": [],
   "source": [
    "#we have very less number of reviews with length > 500.\n",
    "#So we will consideronly those below it.\n",
    "x_train_pad = padding_(x_train,500)\n",
    "x_test_pad = padding_(x_test,500)"
   ]
  },
  {
   "cell_type": "markdown",
   "id": "8176486f",
   "metadata": {
    "papermill": {
     "duration": 0.006719,
     "end_time": "2023-04-16T12:13:39.100972",
     "exception": false,
     "start_time": "2023-04-16T12:13:39.094253",
     "status": "completed"
    },
    "tags": []
   },
   "source": [
    "### Batching and loading as tensor"
   ]
  },
  {
   "cell_type": "code",
   "execution_count": 13,
   "id": "446d11f3",
   "metadata": {
    "execution": {
     "iopub.execute_input": "2023-04-16T12:13:39.116588Z",
     "iopub.status.busy": "2023-04-16T12:13:39.116002Z",
     "iopub.status.idle": "2023-04-16T12:13:39.131719Z",
     "shell.execute_reply": "2023-04-16T12:13:39.130794Z"
    },
    "papermill": {
     "duration": 0.026076,
     "end_time": "2023-04-16T12:13:39.133979",
     "exception": false,
     "start_time": "2023-04-16T12:13:39.107903",
     "status": "completed"
    },
    "tags": []
   },
   "outputs": [],
   "source": [
    "# create tensor dataset\n",
    "training_data = TensorDataset(torch.from_numpy(x_train_pad),torch.from_numpy(y_train))\n",
    "testing_data = TensorDataset(torch.from_numpy(x_test_pad),torch.from_numpy(y_test))\n",
    "\n",
    "#dataloader\n",
    "batch_size=50\n",
    "train_loader = DataLoader(training_data,shuffle=True,batch_size=batch_size)\n",
    "test_loader = DataLoader(testing_data,shuffle=True,batch_size=batch_size)\n"
   ]
  },
  {
   "cell_type": "code",
   "execution_count": 14,
   "id": "92addf0b",
   "metadata": {
    "execution": {
     "iopub.execute_input": "2023-04-16T12:13:39.149064Z",
     "iopub.status.busy": "2023-04-16T12:13:39.148782Z",
     "iopub.status.idle": "2023-04-16T12:13:39.206063Z",
     "shell.execute_reply": "2023-04-16T12:13:39.204674Z"
    },
    "papermill": {
     "duration": 0.067571,
     "end_time": "2023-04-16T12:13:39.208347",
     "exception": false,
     "start_time": "2023-04-16T12:13:39.140776",
     "status": "completed"
    },
    "tags": []
   },
   "outputs": [
    {
     "name": "stdout",
     "output_type": "stream",
     "text": [
      "Sample input size:  torch.Size([50, 500])\n",
      "Sample input: \n",
      " tensor([[  0,   0,   0,  ...,   4,  48, 223],\n",
      "        [  0,   0,   0,  ...,  92,   1, 306],\n",
      "        [  0,   0,   0,  ..., 326,   8,  16],\n",
      "        ...,\n",
      "        [  0,   0,   0,  ..., 135,  30,  18],\n",
      "        [  0,   0,   0,  ...,  39,   1, 554],\n",
      "        [  0,   0,   0,  ...,   1, 946,   1]])\n",
      "Sample input: \n",
      " tensor([1, 1, 0, 1, 1, 1, 1, 1, 1, 0, 0, 0, 1, 1, 0, 1, 1, 0, 1, 0, 1, 0, 1, 0,\n",
      "        0, 1, 0, 0, 0, 1, 1, 0, 1, 0, 1, 0, 1, 1, 0, 1, 1, 1, 0, 0, 0, 1, 0, 0,\n",
      "        0, 1])\n"
     ]
    }
   ],
   "source": [
    "# obtain one batch of training data\n",
    "dataiter = iter(train_loader)\n",
    "sample_x, sample_y =next( dataiter)\n",
    "\n",
    "print('Sample input size: ', sample_x.size()) # batch_size, seq_length\n",
    "print('Sample input: \\n', sample_x)\n",
    "print('Sample input: \\n', sample_y)"
   ]
  },
  {
   "cell_type": "markdown",
   "id": "247bf660",
   "metadata": {
    "papermill": {
     "duration": 0.006748,
     "end_time": "2023-04-16T12:13:39.222306",
     "exception": false,
     "start_time": "2023-04-16T12:13:39.215558",
     "status": "completed"
    },
    "tags": []
   },
   "source": [
    "## Model Building"
   ]
  },
  {
   "cell_type": "code",
   "execution_count": 15,
   "id": "317a78ca",
   "metadata": {
    "execution": {
     "iopub.execute_input": "2023-04-16T12:13:39.237810Z",
     "iopub.status.busy": "2023-04-16T12:13:39.237530Z",
     "iopub.status.idle": "2023-04-16T12:13:39.247837Z",
     "shell.execute_reply": "2023-04-16T12:13:39.246827Z"
    },
    "papermill": {
     "duration": 0.020605,
     "end_time": "2023-04-16T12:13:39.250007",
     "exception": false,
     "start_time": "2023-04-16T12:13:39.229402",
     "status": "completed"
    },
    "tags": []
   },
   "outputs": [],
   "source": [
    "class SentimentRNN(nn.Module):\n",
    "    def __init__(self,no_layers,vocab_size,hidden_dim,embedding_dim,drop_prob=0.5):\n",
    "        super(SentimentRNN, self).__init__()\n",
    "        self.output_dim = output_dim\n",
    "        self.hidden_dim = hidden_dim\n",
    "        \n",
    "        self.no_layers = no_layers\n",
    "        self.vocab_size = vocab_size\n",
    "        \n",
    "        # embedding and LSTM layers\n",
    "        self.embedding = nn.Embedding(vocab_size, embedding_dim)\n",
    "        \n",
    "        # LSTM\n",
    "        self.lstm = nn.LSTM(input_size=embedding_dim, \n",
    "                           hidden_size=self.hidden_dim,\n",
    "                           num_layers=no_layers,\n",
    "                           batch_first=True)\n",
    "        # dropout layer\n",
    "        self.dropout = nn.Dropout(0.3)\n",
    "         # linear and sigmoid layer\n",
    "        self.fc = nn.Linear(self.hidden_dim, output_dim)\n",
    "        self.sig = nn.Sigmoid()\n",
    "        \n",
    "    def forward(self, x, hidden):\n",
    "        batch_size = x.size(0)\n",
    "        # embedding and lstm_out\n",
    "        embeds = self.embedding(x)  # shape: B x S x Feature   since batch = True\n",
    "        #print(embeds.shape)  #[50, 500, 1000]\n",
    "        lstm_out, hidden = self.lstm(embeds, hidden)\n",
    "        \n",
    "        lstm_out = lstm_out.contiguous().view(-1, self.hidden_dim)\n",
    "        # dropout and fully connected layer\n",
    "        out = self.dropout(lstm_out)\n",
    "        out = self.fc(out)\n",
    "        \n",
    "        # sigmoid function\n",
    "        sig_out = self.sig(out)\n",
    "        # reshape to be batch_size first\n",
    "        sig_out = sig_out.view(batch_size, -1)\n",
    "        \n",
    "        sig_out = sig_out[:, -1] # get last batch of labels\n",
    "        \n",
    "        # return last sigmoid output and hidden state\n",
    "        return sig_out, hidden\n",
    "    def init_hidden(self, batch_size):\n",
    "        h0 = torch.zeros((self.no_layers, batch_size, self.hidden_dim)).to(device)\n",
    "        c0 = torch.zeros((self.no_layers, batch_size, self.hidden_dim)).to(device)\n",
    "        \n",
    "        hidden = (h0, c0)\n",
    "        return hidden"
   ]
  },
  {
   "cell_type": "code",
   "execution_count": 16,
   "id": "d6ef515b",
   "metadata": {
    "execution": {
     "iopub.execute_input": "2023-04-16T12:13:39.264790Z",
     "iopub.status.busy": "2023-04-16T12:13:39.264517Z",
     "iopub.status.idle": "2023-04-16T12:13:42.651276Z",
     "shell.execute_reply": "2023-04-16T12:13:42.650202Z"
    },
    "papermill": {
     "duration": 3.396899,
     "end_time": "2023-04-16T12:13:42.653664",
     "exception": false,
     "start_time": "2023-04-16T12:13:39.256765",
     "status": "completed"
    },
    "tags": []
   },
   "outputs": [
    {
     "name": "stdout",
     "output_type": "stream",
     "text": [
      "SentimentRNN(\n",
      "  (embedding): Embedding(1001, 64)\n",
      "  (lstm): LSTM(64, 256, num_layers=2, batch_first=True)\n",
      "  (dropout): Dropout(p=0.3, inplace=False)\n",
      "  (fc): Linear(in_features=256, out_features=1, bias=True)\n",
      "  (sig): Sigmoid()\n",
      ")\n"
     ]
    }
   ],
   "source": [
    "no_layers = 2\n",
    "vocab_size = len(vocab) + 1 #extra 1 for padding\n",
    "embedding_dim = 64\n",
    "output_dim = 1\n",
    "hidden_dim = 256\n",
    "\n",
    "model = SentimentRNN(no_layers,vocab_size,hidden_dim,embedding_dim,drop_prob=0.5)\n",
    "\n",
    "\n",
    "#moving to gpu\n",
    "model.to(device)\n",
    "\n",
    "print(model)"
   ]
  },
  {
   "cell_type": "markdown",
   "id": "efe2a7c0",
   "metadata": {
    "papermill": {
     "duration": 0.006904,
     "end_time": "2023-04-16T12:13:42.667975",
     "exception": false,
     "start_time": "2023-04-16T12:13:42.661071",
     "status": "completed"
    },
    "tags": []
   },
   "source": [
    "## Training"
   ]
  },
  {
   "cell_type": "code",
   "execution_count": 17,
   "id": "ff78e176",
   "metadata": {
    "execution": {
     "iopub.execute_input": "2023-04-16T12:13:42.683292Z",
     "iopub.status.busy": "2023-04-16T12:13:42.682944Z",
     "iopub.status.idle": "2023-04-16T12:13:42.688673Z",
     "shell.execute_reply": "2023-04-16T12:13:42.687616Z"
    },
    "papermill": {
     "duration": 0.015889,
     "end_time": "2023-04-16T12:13:42.690805",
     "exception": false,
     "start_time": "2023-04-16T12:13:42.674916",
     "status": "completed"
    },
    "tags": []
   },
   "outputs": [],
   "source": [
    "# loss and optimization functions\n",
    "lr=0.001\n",
    "\n",
    "criterion = nn.BCELoss()\n",
    "\n",
    "optimizer = torch.optim.Adam(model.parameters(), lr=lr)\n",
    "\n",
    "# function to predict accuracy\n",
    "def acc(pred, label):\n",
    "    pred = torch.round(pred.squeeze())\n",
    "    return torch.sum(pred==label.squeeze()).item()"
   ]
  },
  {
   "cell_type": "code",
   "execution_count": 18,
   "id": "1398ee33",
   "metadata": {
    "execution": {
     "iopub.execute_input": "2023-04-16T12:13:42.706746Z",
     "iopub.status.busy": "2023-04-16T12:13:42.706451Z",
     "iopub.status.idle": "2023-04-16T12:20:31.262836Z",
     "shell.execute_reply": "2023-04-16T12:20:31.261118Z"
    },
    "papermill": {
     "duration": 408.574287,
     "end_time": "2023-04-16T12:20:31.272527",
     "exception": false,
     "start_time": "2023-04-16T12:13:42.698240",
     "status": "completed"
    },
    "tags": []
   },
   "outputs": [
    {
     "name": "stdout",
     "output_type": "stream",
     "text": [
      "Epoch 1\n",
      "train_loss : 0.5688498249650001 val_loss : 0.42844850093126297\n",
      "train_accuracy : 69.655 val_accuracy : 80.91000000000001\n",
      "Validation loss decreased (inf --> 0.428449).  Saving model ...\n",
      "==================================================\n",
      "Epoch 2\n",
      "train_loss : 0.39382951060310006 val_loss : 0.3590979988873005\n",
      "train_accuracy : 82.87 val_accuracy : 83.95\n",
      "Validation loss decreased (0.428449 --> 0.359098).  Saving model ...\n",
      "==================================================\n",
      "Epoch 3\n",
      "train_loss : 0.33553050274960694 val_loss : 0.3239480479806662\n",
      "train_accuracy : 85.595 val_accuracy : 86.00999999999999\n",
      "Validation loss decreased (0.359098 --> 0.323948).  Saving model ...\n",
      "==================================================\n",
      "Epoch 4\n",
      "train_loss : 0.3063820159528404 val_loss : 0.3239254622906447\n",
      "train_accuracy : 87.065 val_accuracy : 85.87\n",
      "Validation loss decreased (0.323948 --> 0.323925).  Saving model ...\n",
      "==================================================\n",
      "Epoch 5\n",
      "train_loss : 0.2777354960143566 val_loss : 0.33915040526539086\n",
      "train_accuracy : 88.3575 val_accuracy : 85.83\n",
      "==================================================\n"
     ]
    }
   ],
   "source": [
    "clip = 5\n",
    "epochs = 5 \n",
    "valid_loss_min = np.Inf\n",
    "# train for some number of epochs\n",
    "epoch_tr_loss,epoch_tst_loss = [],[]\n",
    "epoch_tr_acc,epoch_tst_acc = [],[]\n",
    "\n",
    "for epoch in range(epochs):\n",
    "    train_losses = []\n",
    "    train_acc = 0.0\n",
    "    \n",
    "    model.train()\n",
    "    \n",
    "    # initialize hidden state\n",
    "    h = model.init_hidden(batch_size)\n",
    "    \n",
    "    for inputs, labels in train_loader:\n",
    "        \n",
    "        inputs = inputs.to(device)\n",
    "        labels = labels.to(device)\n",
    "        \n",
    "        # Creating new variables for the hidden state, otherwise\n",
    "        # we'd backprop through the entire training history\n",
    "        h = tuple([each.data for each in h])\n",
    "        \n",
    "        model.zero_grad()\n",
    "        \n",
    "        output, h = model(inputs, h)\n",
    "        \n",
    "        # calculate the loss and perform backprop\n",
    "        loss = criterion(output.squeeze(), labels.float())\n",
    "        \n",
    "        loss.backward()\n",
    "        train_losses.append(loss.item())\n",
    "        \n",
    "        # calculating accuracy\n",
    "        accuracy = acc(output,labels)\n",
    "        train_acc += accuracy\n",
    "        #`clip_grad_norm` helps prevent the exploding gradient problem in RNNs / LSTMs.\n",
    "        nn.utils.clip_grad_norm_(model.parameters(), clip)\n",
    "        optimizer.step()\n",
    "        \n",
    "    test_h = model.init_hidden(batch_size)\n",
    "    test_losses = []\n",
    "    test_acc = 0.0\n",
    "    \n",
    "    model.eval()\n",
    "    \n",
    "    for inputs, labels in test_loader:\n",
    "        test_h = tuple([each.data for each in test_h])\n",
    "        \n",
    "        inputs, labels = inputs.to(device), labels.to(device)\n",
    "        \n",
    "        output, test_h = model(inputs, test_h)\n",
    "        test_loss = criterion(output.squeeze(), labels.float())\n",
    "\n",
    "        test_losses.append(test_loss.item())\n",
    "\n",
    "        accuracy = acc(output,labels)\n",
    "        test_acc += accuracy\n",
    "            \n",
    "    epoch_train_loss = np.mean(train_losses)\n",
    "    epoch_test_loss = np.mean(test_losses)\n",
    "    epoch_train_acc = train_acc/len(train_loader.dataset)\n",
    "    epoch_test_acc = test_acc/len(test_loader.dataset)\n",
    "    epoch_tr_loss.append(epoch_train_loss)\n",
    "    epoch_tst_loss.append(epoch_test_loss)\n",
    "    epoch_tr_acc.append(epoch_train_acc)\n",
    "    epoch_tst_acc.append(epoch_test_acc)\n",
    "    print(f'Epoch {epoch+1}') \n",
    "    print(f'train_loss : {epoch_train_loss} val_loss : {epoch_test_loss}')\n",
    "    print(f'train_accuracy : {epoch_train_acc*100} val_accuracy : {epoch_test_acc*100}')\n",
    "    if epoch_test_loss <= valid_loss_min:\n",
    "        torch.save(model.state_dict(), '../working/state_dict.pt')\n",
    "        print('Validation loss decreased ({:.6f} --> {:.6f}).  Saving model ...'.format(valid_loss_min,epoch_test_loss))\n",
    "        valid_loss_min = epoch_test_loss\n",
    "    print(25*'==')"
   ]
  },
  {
   "cell_type": "code",
   "execution_count": 19,
   "id": "5f89a274",
   "metadata": {
    "execution": {
     "iopub.execute_input": "2023-04-16T12:20:31.288764Z",
     "iopub.status.busy": "2023-04-16T12:20:31.288445Z",
     "iopub.status.idle": "2023-04-16T12:20:31.619398Z",
     "shell.execute_reply": "2023-04-16T12:20:31.618348Z"
    },
    "papermill": {
     "duration": 0.341994,
     "end_time": "2023-04-16T12:20:31.621943",
     "exception": false,
     "start_time": "2023-04-16T12:20:31.279949",
     "status": "completed"
    },
    "tags": []
   },
   "outputs": [
    {
     "data": {
      "image/png": "[encoded data removed]",
      "text/plain": [
       "<Figure size 1000x600 with 2 Axes>"
      ]
     },
     "metadata": {},
     "output_type": "display_data"
    }
   ],
   "source": [
    "fig = plt.figure(figsize=(10, 6))\n",
    "\n",
    "plt.subplot(1, 2, 1)\n",
    "plt.plot(epoch_tr_acc, label='Train Acc')\n",
    "plt.plot(epoch_tst_acc, label='Testing Acc')\n",
    "plt.title(\"Accuracy\")\n",
    "plt.legend()\n",
    "plt.grid()\n",
    "\n",
    "plt.subplot(1, 2, 2)\n",
    "plt.plot(epoch_tr_loss, label='Train loss')\n",
    "plt.plot(epoch_tst_loss, label='Testing loss')\n",
    "plt.title(\"Loss\")\n",
    "plt.legend()\n",
    "plt.grid()\n",
    "\n",
    "plt.show()"
   ]
  },
  {
   "cell_type": "markdown",
   "id": "0b2bdda7",
   "metadata": {
    "papermill": {
     "duration": 0.007902,
     "end_time": "2023-04-16T12:20:31.638481",
     "exception": false,
     "start_time": "2023-04-16T12:20:31.630579",
     "status": "completed"
    },
    "tags": []
   },
   "source": [
    "### Inference"
   ]
  },
  {
   "cell_type": "code",
   "execution_count": 20,
   "id": "cb531210",
   "metadata": {
    "execution": {
     "iopub.execute_input": "2023-04-16T12:20:31.656325Z",
     "iopub.status.busy": "2023-04-16T12:20:31.655979Z",
     "iopub.status.idle": "2023-04-16T12:20:31.663271Z",
     "shell.execute_reply": "2023-04-16T12:20:31.662309Z"
    },
    "papermill": {
     "duration": 0.018635,
     "end_time": "2023-04-16T12:20:31.665385",
     "exception": false,
     "start_time": "2023-04-16T12:20:31.646750",
     "status": "completed"
    },
    "tags": []
   },
   "outputs": [],
   "source": [
    "def predict_text(text):\n",
    "        word_seq = np.array([vocab[preprocess_string(word)] for word in text.split() \n",
    "                         if preprocess_string(word) in vocab.keys()])\n",
    "        word_seq = np.expand_dims(word_seq,axis=0)\n",
    "        pad =  torch.from_numpy(padding_(word_seq,500))\n",
    "        inputs = pad.to(device)\n",
    "        batch_size = 1\n",
    "        h = model.init_hidden(batch_size)\n",
    "        h = tuple([each.data for each in h])\n",
    "        output, h = model(inputs, h)\n",
    "        return(output.item())"
   ]
  },
  {
   "cell_type": "code",
   "execution_count": null,
   "id": "19abe48d",
   "metadata": {
    "papermill": {
     "duration": 0.007798,
     "end_time": "2023-04-16T12:20:31.681048",
     "exception": false,
     "start_time": "2023-04-16T12:20:31.673250",
     "status": "completed"
    },
    "tags": []
   },
   "outputs": [],
   "source": []
  }
 ],
 "metadata": {
  "kernelspec": {
   "display_name": "Python 3",
   "language": "python",
   "name": "python3"
  },
  "language_info": {
   "codemirror_mode": {
    "name": "ipython",
    "version": 3
   },
   "file_extension": ".py",
   "mimetype": "text/x-python",
   "name": "python",
   "nbconvert_exporter": "python",
   "pygments_lexer": "ipython3",
   "version": "3.7.12"
  },
  "papermill": {
   "default_parameters": {},
   "duration": 514.020571,
   "end_time": "2023-04-16T12:20:34.111046",
   "environment_variables": {},
   "exception": null,
   "input_path": "__notebook__.ipynb",
   "output_path": "__notebook__.ipynb",
   "parameters": {},
   "start_time": "2023-04-16T12:12:00.090475",
   "version": "2.4.0"
  }
 },
 "nbformat": 4,
 "nbformat_minor": 5
}
